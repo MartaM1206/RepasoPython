{
 "cells": [
  {
   "cell_type": "markdown",
   "metadata": {},
   "source": [
    "#### Ejercicio 1\n",
    "\n",
    "Devuelve el número de vocales en una cadena dada. Consideraremos `a, e, i, o, u` como vocales. \n",
    "\n",
    "Por ejemplo: \n",
    "\n",
    "```python\n",
    "print(get_count(\"Hola Buenos Dias\")) # devuelve 7 \n",
    "print(get_count(\"Python Mola\")) # devuelve 3\n",
    "print(get_count(\"REPASANDO EJERCICIOS\")) # devuelve 9\n",
    "```"
   ]
  },
  {
   "cell_type": "code",
   "execution_count": 7,
   "metadata": {},
   "outputs": [],
   "source": [
    "def get_count(cadena):\n",
    "    vocales = [\"a\", \"e\", \"i\", \"o\", \"u\"]\n",
    "    contador = 0\n",
    "    cadena2 = cadena.lower()\n",
    "    for letra in cadena2:\n",
    "        if letra in vocales:\n",
    "            contador +=1\n",
    "    return contador\n"
   ]
  },
  {
   "cell_type": "code",
   "execution_count": 8,
   "metadata": {},
   "outputs": [
    {
     "name": "stdout",
     "output_type": "stream",
     "text": [
      "9\n"
     ]
    }
   ],
   "source": [
    "print(get_count(\"REPASANDO EJERCICIOS\"))"
   ]
  },
  {
   "cell_type": "markdown",
   "metadata": {},
   "source": [
    "#### Ejercicio 2\n",
    "\n",
    "Eleva al cuadrado cada dígito de un número y unelos. Por ejemplo, si pasas el número 9119 a la función, obtendras 811181, porque \\(9^2\\) ￼ es 81 y ￼\\(1^2\\) es 1. (81-1-1-81). Otro ejemplo, un número de 765 debería devolver 493625 porque \\(7^2\\) ￼ es 49,  \\(6^2\\) ￼ es 36 y ￼\\(5^2\\)  es 25. (49-36-25)\n",
    "\n",
    "```python\n",
    "print(square_digits(123)) # devuelve 149\n",
    "print(square_digits(12345)) # devuelve 1491625\n",
    "print(square_digits(34)) # devuelve 916\n",
    "```\n"
   ]
  },
  {
   "cell_type": "code",
   "execution_count": 25,
   "metadata": {},
   "outputs": [],
   "source": [
    "def unir_cuadrados(numero):\n",
    "    resultado =\"\"\n",
    "    numero2 = str(numero)\n",
    "    for digito in numero2:\n",
    "        resultado += str(int(digito) ** 2)\n",
    "    return resultado"
   ]
  },
  {
   "cell_type": "code",
   "execution_count": 190,
   "metadata": {},
   "outputs": [
    {
     "name": "stdout",
     "output_type": "stream",
     "text": [
      "362549\n"
     ]
    }
   ],
   "source": [
    "print(unir_cuadrados(657))"
   ]
  },
  {
   "cell_type": "markdown",
   "metadata": {},
   "source": [
    "#### Ejercicio 3\n",
    "\n",
    "Escribe una función que reciba una cadena de texto compuesta por una o más palabras, y devuelva la misma cadena, pero con todas las palabras de cinco o más letras invertidas. \n",
    "\n",
    "```python\n",
    "print(spin_words(\"Hey fellow warriors\")) # Hey wollef sroirraw\n",
    "print(spin_words(\"This is a test\")) # This is a test\n",
    "print(spin_words(\"This is another test\")) # This is rehtona test\n",
    "```"
   ]
  },
  {
   "cell_type": "code",
   "execution_count": 65,
   "metadata": {},
   "outputs": [],
   "source": [
    "def invertir_palabras(cadena):\n",
    "    palabras = cadena.split()\n",
    "    palabras_invertidas = []\n",
    "    for palabra in palabras:\n",
    "        if len(palabra) >= 5:\n",
    "            palabra_invertida = palabra[::-1]\n",
    "        else:\n",
    "            palabra_invertida = palabra\n",
    "        palabras_invertidas.append(palabra_invertida)\n",
    "    return \" \".join(palabras_invertidas)"
   ]
  },
  {
   "cell_type": "code",
   "execution_count": 191,
   "metadata": {},
   "outputs": [
    {
     "name": "stdout",
     "output_type": "stream",
     "text": [
      "Ella aírad el olpos del nátipac\n"
     ]
    }
   ],
   "source": [
    "print(invertir_palabras(\"Ella daría el soplo del capitán\"))"
   ]
  },
  {
   "cell_type": "markdown",
   "metadata": {},
   "source": [
    "#### Ejercicio 4\n",
    "\n",
    "Probablemente conozcas el sistema de “me gusta” de Facebook y otras plataformas. Las personas pueden dar “me gusta” a publicaciones, imágenes u otros elementos. Tienes que crear el texto que se debe mostrar junto a dicho elemento. Crea una función que reciba una lista con los nombres de las personas que dieron “me gusta” a un elemento. La función debe devolver el texto mostrado según los ejemplos:\n",
    "\n",
    "```python\n",
    "print(likes([\"Peter\"])) # devuelve \"Peter likes this\"\n",
    "print(likes([\"Jacob\", \"Alex\"] )) # devuelve \"Jacob and Alex like this\"\n",
    "print(likes([\"Max\", \"John\", \"Mark\"])) # devuelve \"Max, John and Mark like this\"\n",
    "print(likes([\"Max\", \"John\", \"Mark\", \"Max\"])) # devuelve \"Max, John and 2 others like this\"\n",
    "```"
   ]
  },
  {
   "cell_type": "code",
   "execution_count": 104,
   "metadata": {},
   "outputs": [],
   "source": [
    "def likes(lista_nombres):\n",
    "   if len(lista_nombres) == 1:\n",
    "      resultado = \", \".join(lista_nombres) + \" like this\"\n",
    "   elif len(lista_nombres) <= 3:\n",
    "      resultado = \", \".join(lista_nombres[0:-1]) + \" and \" + (lista_nombres[-1]) + \" like this\"\n",
    "   elif len(lista_nombres) >3:\n",
    "      resultado = \", \".join(lista_nombres[0:2]) + \" and \" + str(len(lista_nombres)-2) + \" others like this\"\n",
    "   \n",
    "   return resultado"
   ]
  },
  {
   "cell_type": "code",
   "execution_count": null,
   "metadata": {},
   "outputs": [
    {
     "data": {
      "text/plain": [
       "'Dan, Serena and 3 others like this'"
      ]
     },
     "execution_count": 109,
     "metadata": {},
     "output_type": "execute_result"
    }
   ],
   "source": [
    "likes([\"Dan\", \"Serena\", \"Jenny\", \"Nate\", \"Blair\"])"
   ]
  },
  {
   "cell_type": "code",
   "execution_count": 187,
   "metadata": {},
   "outputs": [
    {
     "data": {
      "text/plain": [
       "'Dan, Serena and Jenny like this'"
      ]
     },
     "execution_count": 187,
     "metadata": {},
     "output_type": "execute_result"
    }
   ],
   "source": [
    "likes([\"Dan\", \"Serena\", \"Jenny\"])"
   ]
  },
  {
   "cell_type": "code",
   "execution_count": 188,
   "metadata": {},
   "outputs": [
    {
     "data": {
      "text/plain": [
       "'Dan and Serena like this'"
      ]
     },
     "execution_count": 188,
     "metadata": {},
     "output_type": "execute_result"
    }
   ],
   "source": [
    "likes([\"Dan\", \"Serena\"])"
   ]
  },
  {
   "cell_type": "code",
   "execution_count": 189,
   "metadata": {},
   "outputs": [
    {
     "data": {
      "text/plain": [
       "'Vanesa like this'"
      ]
     },
     "execution_count": 189,
     "metadata": {},
     "output_type": "execute_result"
    }
   ],
   "source": [
    "likes([\"Vanesa\"])"
   ]
  },
  {
   "cell_type": "markdown",
   "metadata": {},
   "source": [
    "#### Ejercicio 5\n",
    "\n",
    "Crea una función que tome una lista de enteros no negativos y cadenas de texto, y devuelva una nueva lista con las cadenas filtradas (es decir, eliminadas).\n",
    "\n",
    "```python\n",
    "print(filter_list([1, 2, 'a', 'b'])) # devuelve [1, 2]\n",
    "print(filter_list([1, 'a', 'b', 0, 15])) # devuelve [1, 0, 15]\n",
    "print(filter_list([1, 2, 'aasf', '1', '123', 123])) # devuelve [1, 2, 123]\n",
    "```"
   ]
  },
  {
   "cell_type": "code",
   "execution_count": 59,
   "metadata": {},
   "outputs": [],
   "source": [
    "def filtro_lista(lista):\n",
    "    lista_filtrada = []\n",
    "    for elemento in lista:\n",
    "        if type(elemento) == int:\n",
    "            lista_filtrada.append(elemento)\n",
    "    return lista_filtrada\n"
   ]
  },
  {
   "cell_type": "code",
   "execution_count": 61,
   "metadata": {},
   "outputs": [
    {
     "name": "stdout",
     "output_type": "stream",
     "text": [
      "[1, 2, 123]\n"
     ]
    }
   ],
   "source": [
    "print(filtro_lista([1, 2, 'aasf', '1', '123', 123]))"
   ]
  },
  {
   "cell_type": "markdown",
   "metadata": {},
   "source": [
    "#### Ejercicio 6\n",
    "\n",
    "Mueve la primera letra de cada palabra al final de la misma, luego agrega “ay” al final de la palabra. Deja los signos de puntuación sin cambios.\n",
    "\n",
    "```python\n",
    "print(pig_it('Pig latin is cool')) # devuelve \"igPay atinlay siay oolcay\"\n",
    "print(pig_it('This is my string')) # devuelve \"hisTay siay ymay tringsay\"\n",
    "```"
   ]
  },
  {
   "cell_type": "code",
   "execution_count": 71,
   "metadata": {},
   "outputs": [],
   "source": [
    "def pig_it(cadena):\n",
    "    cadena_nueva = []\n",
    "    palabras = cadena.split()\n",
    "    for palabra in palabras:\n",
    "        palabra_nueva = palabra[1:] + palabra[0] + \"ay\"\n",
    "        cadena_nueva.append(palabra_nueva)\n",
    "    return \" \".join(cadena_nueva)"
   ]
  },
  {
   "cell_type": "code",
   "execution_count": 186,
   "metadata": {},
   "outputs": [
    {
     "name": "stdout",
     "output_type": "stream",
     "text": [
      "mandaAay onay avay aay enirvay\n"
     ]
    }
   ],
   "source": [
    "print(pig_it('Amanda no va a venir'))"
   ]
  },
  {
   "cell_type": "markdown",
   "metadata": {},
   "source": [
    "#### Ejercicio 7\n",
    "\n",
    "A Pete le gusta hornear pasteles. Tiene algunas recetas e ingredientes. Desafortunadamente, no es bueno con las matemáticas. ¿Puedes ayudarlo a averiguar cuántos pasteles puede hornear considerando sus recetas? Escribe una función que reciba la receta  y los ingredientes disponibles y devuelva el número máximo de pasteles que Pete puede hornear. Para simplificar, no hay unidades para las cantidades (por ejemplo, 1 libra de harina o 200 gramos de azúcar son simplemente 1 o 200). Los ingredientes que no están presentes en los objetos se pueden considerar como 0.\n",
    "\n",
    "```python\n",
    "recipe = {\"flour\": 500, \"sugar\": 200, \"eggs\": 1}\n",
    "available = {\"flour\": 1200, \"sugar\": 1200, \"eggs\": 5, \"milk\": 200}\n",
    "print(cakes(recipe, available)) # devuelve 2 bizcochos\n",
    "\n",
    "recipe = {\"apples\": 3, \"flour\": 300, \"sugar\": 150, \"milk\": 100, \"oil\": 100}\n",
    "available = {\"sugar\": 500, \"flour\": 2000, \"milk\": 2000}\n",
    "print(cakes(recipe, available)) # devuelve 0 bizcochos\n",
    "\n",
    "```"
   ]
  },
  {
   "cell_type": "code",
   "execution_count": 179,
   "metadata": {},
   "outputs": [],
   "source": [
    "def cuantos_bizcochos(receta, disponible):\n",
    "    contador = {}\n",
    "    ingredientes_receta = list(receta.keys())\n",
    "    ingredientes_disponibles = list(disponible.keys())\n",
    "    for ingrediente in ingredientes_receta:\n",
    "        if ingrediente in ingredientes_disponibles:\n",
    "            valor = int(disponible[ingrediente]/receta[ingrediente])\n",
    "        else:\n",
    "            valor = 0\n",
    "        contador.update({ingrediente:valor})\n",
    "    valores = list(contador.values())\n",
    "    resultado = str(min(valores)) + \" bizcochos\"\n",
    "    return resultado"
   ]
  },
  {
   "cell_type": "code",
   "execution_count": 180,
   "metadata": {},
   "outputs": [
    {
     "data": {
      "text/plain": [
       "'2 bizcochos'"
      ]
     },
     "execution_count": 180,
     "metadata": {},
     "output_type": "execute_result"
    }
   ],
   "source": [
    "recipe = {\"flour\": 500, \"sugar\": 200, \"eggs\": 1}\n",
    "available = {\"flour\": 1200, \"sugar\": 1200, \"eggs\": 5, \"milk\": 200}\n",
    "cuantos_bizcochos(recipe, available)"
   ]
  },
  {
   "cell_type": "code",
   "execution_count": 181,
   "metadata": {},
   "outputs": [
    {
     "data": {
      "text/plain": [
       "'0 bizcochos'"
      ]
     },
     "execution_count": 181,
     "metadata": {},
     "output_type": "execute_result"
    }
   ],
   "source": [
    "recipe = {\"apples\": 3, \"flour\": 300, \"sugar\": 150, \"milk\": 100, \"oil\": 100}\n",
    "available = {\"sugar\": 500, \"flour\": 2000, \"milk\": 2000}\n",
    "cuantos_bizcochos(recipe, available)"
   ]
  },
  {
   "cell_type": "code",
   "execution_count": 185,
   "metadata": {},
   "outputs": [
    {
     "data": {
      "text/plain": [
       "'1 bizcochos'"
      ]
     },
     "execution_count": 185,
     "metadata": {},
     "output_type": "execute_result"
    }
   ],
   "source": [
    "receta = {\"leche\": 3, \"cacao\": 300, \"avellanas\": 150, \"azucar\": 100}\n",
    "despensa = {\"azucar\": 500, \"cacao\": 2000, \"leche\": 2000, \"avellanas\": 200}\n",
    "cuantos_bizcochos(receta, despensa)"
   ]
  },
  {
   "cell_type": "markdown",
   "metadata": {},
   "source": [
    "#### Ejercicio 8\n",
    "\n",
    "Debes validar si una cadena de entrada del usuario es alfanumérica. La cadena debe cumplir con las siguientes condiciones para ser alfanumérica:\n",
    "\n",
    "•\tContener al menos un carácter (”” no es válido).\n",
    "\n",
    "•\tLos caracteres permitidos son letras latinas en mayúsculas/minúsculas y dígitos del 0 al 9.\n",
    "\n",
    "•\tNo debe contener espacios en blanco ni guiones bajos (_).\n",
    "\n",
    "```python\n",
    "print(alphanumeric(\"hello world_\")) # devuelve False\n",
    "print(alphanumeric(\"PassW0rd\")) # devuelve True\n",
    "print(alphanumeric(\"L0La\")) # devuelve True\n",
    "```"
   ]
  },
  {
   "cell_type": "code",
   "execution_count": 46,
   "metadata": {},
   "outputs": [],
   "source": [
    "def alfanumerica(cadena):\n",
    "    resultado = \"\"\n",
    "    if cadena.isalnum():\n",
    "        resultado = True\n",
    "    else: \n",
    "        resultado = False\n",
    "    return resultado"
   ]
  },
  {
   "cell_type": "code",
   "execution_count": 49,
   "metadata": {},
   "outputs": [
    {
     "name": "stdout",
     "output_type": "stream",
     "text": [
      "False\n"
     ]
    }
   ],
   "source": [
    "print(alfanumerica(\"hell0 world\"))"
   ]
  }
 ],
 "metadata": {
  "kernelspec": {
   "display_name": "Python 3",
   "language": "python",
   "name": "python3"
  },
  "language_info": {
   "codemirror_mode": {
    "name": "ipython",
    "version": 3
   },
   "file_extension": ".py",
   "mimetype": "text/x-python",
   "name": "python",
   "nbconvert_exporter": "python",
   "pygments_lexer": "ipython3",
   "version": "3.12.4"
  }
 },
 "nbformat": 4,
 "nbformat_minor": 2
}
